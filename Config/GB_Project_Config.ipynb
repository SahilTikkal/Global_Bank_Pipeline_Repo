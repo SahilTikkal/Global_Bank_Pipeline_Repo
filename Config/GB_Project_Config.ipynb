{
 "cells": [
  {
   "cell_type": "code",
   "execution_count": null,
   "metadata": {
    "application/vnd.databricks.v1+cell": {
     "cellMetadata": {
      "byteLimit": 2048000,
      "rowLimit": 10000
     },
     "inputWidgets": {},
     "nuid": "22b39a8d-4d26-4050-9159-79f6bcfb0464",
     "showTitle": true,
     "title": "Importing Libraries"
    }
   },
   "outputs": [],
   "source": [
    "from pyspark.sql.types import *"
   ]
  },
  {
   "cell_type": "code",
   "execution_count": null,
   "metadata": {
    "application/vnd.databricks.v1+cell": {
     "cellMetadata": {
      "byteLimit": 2048000,
      "rowLimit": 10000
     },
     "inputWidgets": {},
     "nuid": "f76b1f32-2c5f-46dc-a50a-f184b1f55d20",
     "showTitle": true,
     "title": "Customer Table Schema"
    }
   },
   "outputs": [],
   "source": [
    "# Define schema for Customers table\n",
    "customer_schema =StructType([\n",
    "    StructField(\"customer_id\", StringType(), True),\n",
    "    StructField(\"name\", StringType(), True),\n",
    "    StructField(\"email\", StringType(), True),\n",
    "    StructField(\"phone\", StringType(), True),\n",
    "    StructField(\"address\", StringType(), True),\n",
    "    StructField(\"credit_score\", IntegerType(), True),\n",
    "    StructField(\"join_date\", DateType(), True),\n",
    "    StructField(\"last_update\", TimestampType(), True),\n",
    "    StructField(\"customer_type\", StringType(), True)\n",
    "]) \n"
   ]
  },
  {
   "cell_type": "code",
   "execution_count": null,
   "metadata": {
    "application/vnd.databricks.v1+cell": {
     "cellMetadata": {
      "byteLimit": 2048000,
      "rowLimit": 10000
     },
     "inputWidgets": {},
     "nuid": "ad5aefce-1bfc-417c-ac95-32882c209d5a",
     "showTitle": true,
     "title": "Branch Table Schema"
    }
   },
   "outputs": [],
   "source": [
    "# Define schema for Branch table\n",
    "branches_schema = StructType([\n",
    "    StructField(\"branch_id\", StringType(), True),\n",
    "    StructField(\"branch_name\", StringType(), True),\n",
    "    StructField(\"location\", StringType(), True),\n",
    "    StructField(\"timezone\", StringType(), True),\n",
    "    StructField(\"currency\", StringType(), True)\n",
    "]) \n"
   ]
  },
  {
   "cell_type": "code",
   "execution_count": null,
   "metadata": {
    "application/vnd.databricks.v1+cell": {
     "cellMetadata": {
      "byteLimit": 2048000,
      "rowLimit": 10000
     },
     "inputWidgets": {},
     "nuid": "cd8acfaf-889a-47f1-bcfa-858864a143a2",
     "showTitle": true,
     "title": "Transaction Table Schema"
    }
   },
   "outputs": [],
   "source": [
    "# Define schema for transaction data\n",
    "transactions_schema = StructType([\n",
    "    StructField(\"transaction_id\", StringType(), True),\n",
    "    StructField(\"customer_id\", StringType(), True),\n",
    "    StructField(\"branch_id\", StringType(), True),\n",
    "    StructField(\"channel\", StringType(), True),\n",
    "    StructField(\"transaction_type\", StringType(), True),\n",
    "    StructField(\"amount\", DoubleType(), True),\n",
    "    StructField(\"currency\", StringType(), True),\n",
    "    StructField(\"timestamp\", StringType(), True),\n",
    "    StructField(\"status\", StringType(), True)\n",
    "])"
   ]
  },
  {
   "cell_type": "code",
   "execution_count": null,
   "metadata": {
    "application/vnd.databricks.v1+cell": {
     "cellMetadata": {
      "byteLimit": 2048000,
      "rowLimit": 10000
     },
     "inputWidgets": {},
     "nuid": "4379bae0-a805-4920-9f9c-a2a9f7cc8908",
     "showTitle": false,
     "title": ""
    }
   },
   "outputs": [],
   "source": [
    "config = {\n",
    "  \"adls_connection\" :{\n",
    "    \"storage_account\" : \"mavericstoragecapstone\",\n",
    "    \"container_name\" : \"global-bank\",\n",
    "    \"access_key\" : \"=====NOTallowedonGIThub=====\",\n",
    "    \"storage_account_conf_key\" : \"fs.azure.account.key.mavericstoragecapstone.dfs.core.windows.net\",\n",
    "    \"ingestion_location\" : \"abfss://global-bank@mavericstoragecapstone.dfs.core.windows.net/\"\n",
    "  },\n",
    "  \"paths\":{\n",
    "    \"customers\" : \"/Transactions/csv/Customers.csv\",\n",
    "    \"branch\" : \"/Transactions/csv/Branches.csv\",\n",
    "    \"transactions\" : \"/Transactions/Transactions/\"\n",
    "  },\n",
    "\n",
    "  \"bronze_stream\": {\n",
    "    \"cloudFiles\": {\n",
    "        \"format\": \"csv\",\n",
    "        \"header\": \"true\",\n",
    "        \"timestampFormat\": \"yyyy-MM-dd\",\n",
    "        \"schemaLocation\": \"dbfs:/FileStore/Streaming_Schema/Bronze/Transactions\",\n",
    "        \"inferColumnTypes\": \"true\"\n",
    "    },\n",
    "    \"delta\": {\n",
    "        \"checkpointLocation\": \"dbfs:/FileStore/Checkpoints/Bronze/Transactions\",\n",
    "        \"mergeSchema\": \"true\",\n",
    "        \"outputMode\": \"append\",\n",
    "        \"processingTime\": \"30 seconds\",\n",
    "        \"table\": \"hive_metastore.gb_bronze_schema.transactions_Streaming\"\n",
    "    }\n",
    "  }\n",
    "\n",
    "\n",
    "}"
   ]
  }
 ],
 "metadata": {
  "application/vnd.databricks.v1+notebook": {
   "dashboards": [],
   "environmentMetadata": null,
   "language": "python",
   "notebookMetadata": {
    "pythonIndentUnit": 4
   },
   "notebookName": "GB_Project_Config",
   "widgets": {}
  },
  "language_info": {
   "name": "python"
  }
 },
 "nbformat": 4,
 "nbformat_minor": 0
}
